{
 "cells": [
  {
   "cell_type": "markdown",
   "id": "fe3df883",
   "metadata": {},
   "source": [
    "# Regex experiments"
   ]
  },
  {
   "cell_type": "code",
   "execution_count": 12,
   "id": "6a807ab8",
   "metadata": {},
   "outputs": [],
   "source": [
    "import re"
   ]
  },
  {
   "cell_type": "code",
   "execution_count": 35,
   "id": "c6c45cb1",
   "metadata": {},
   "outputs": [],
   "source": [
    "doc = \"Regular expressions can be concatenated to form new regular expressions; 08 \" \\\n",
    "\"if A and B are both regular expressions, then AB is also a regular expression. 12 \" \\\n",
    "\"In general, if a string p matches A and another string q matches B, the string pq will match AB. 09 \" \\\n",
    "\"This holds unless A or B contain low precedence operations; boundary conditions between A and B; 19 \" \\\n",
    "\"or have numbered group references. 22 Thus, complex expressions can easily be constructed 145 \" \\\n",
    "\"from simpler primitive expressions like the ones described here.\""
   ]
  },
  {
   "cell_type": "code",
   "execution_count": 16,
   "id": "b29b3261",
   "metadata": {},
   "outputs": [
    {
     "data": {
      "text/plain": [
       "<re.Match object; span=(119, 121), match='AB'>"
      ]
     },
     "execution_count": 16,
     "metadata": {},
     "output_type": "execute_result"
    }
   ],
   "source": [
    "re.search('AB', doc)"
   ]
  },
  {
   "cell_type": "code",
   "execution_count": 17,
   "id": "1d52cac8",
   "metadata": {},
   "outputs": [
    {
     "data": {
      "text/plain": [
       "'AB'"
      ]
     },
     "execution_count": 17,
     "metadata": {},
     "output_type": "execute_result"
    }
   ],
   "source": [
    "doc[119:121]"
   ]
  },
  {
   "cell_type": "code",
   "execution_count": 18,
   "id": "50b490c7",
   "metadata": {},
   "outputs": [
    {
     "name": "stdout",
     "output_type": "stream",
     "text": [
      "AB found\n"
     ]
    }
   ],
   "source": [
    "if re.search('AB', doc):\n",
    "    print('AB found')\n",
    "else:\n",
    "    print('AB not found')"
   ]
  },
  {
   "cell_type": "code",
   "execution_count": 22,
   "id": "1f5ae9f4",
   "metadata": {},
   "outputs": [
    {
     "data": {
      "text/plain": [
       "<re.Match object; span=(73, 75), match='08'>"
      ]
     },
     "execution_count": 22,
     "metadata": {},
     "output_type": "execute_result"
    }
   ],
   "source": [
    "re.search('[0-9][0-9]', doc)"
   ]
  },
  {
   "cell_type": "code",
   "execution_count": 28,
   "id": "d080118b",
   "metadata": {},
   "outputs": [
    {
     "data": {
      "text/plain": [
       "['08', '12', '09', '19', '22', '145']"
      ]
     },
     "execution_count": 28,
     "metadata": {},
     "output_type": "execute_result"
    }
   ],
   "source": [
    "re.findall('[0-9]*[0-9]', doc)"
   ]
  },
  {
   "cell_type": "code",
   "execution_count": 37,
   "id": "8dce6154",
   "metadata": {},
   "outputs": [
    {
     "data": {
      "text/plain": [
       "<re.Match object; span=(0, 1), match='R'>"
      ]
     },
     "execution_count": 37,
     "metadata": {},
     "output_type": "execute_result"
    }
   ],
   "source": [
    "re.search('^[S|R]', doc)"
   ]
  },
  {
   "cell_type": "code",
   "execution_count": 36,
   "id": "de6ee524",
   "metadata": {},
   "outputs": [
    {
     "data": {
      "text/plain": [
       "<re.Match object; span=(515, 516), match='.'>"
      ]
     },
     "execution_count": 36,
     "metadata": {},
     "output_type": "execute_result"
    }
   ],
   "source": [
    "re.search('\\.$', doc)"
   ]
  },
  {
   "cell_type": "code",
   "execution_count": 39,
   "id": "167b8816",
   "metadata": {},
   "outputs": [
    {
     "data": {
      "text/plain": [
       "<re.Match object; span=(71, 75), match='; 08'>"
      ]
     },
     "execution_count": 39,
     "metadata": {},
     "output_type": "execute_result"
    }
   ],
   "source": [
    "re.search(';.[0-9][0-9]', doc)"
   ]
  },
  {
   "cell_type": "code",
   "execution_count": 42,
   "id": "e87db8f7",
   "metadata": {},
   "outputs": [],
   "source": [
    "email = \"aaa#bbb.com\""
   ]
  },
  {
   "cell_type": "code",
   "execution_count": 43,
   "id": "7064a7dd",
   "metadata": {},
   "outputs": [],
   "source": [
    "email_pattern = '^[a-zA-Z0-9]*@[a-zA-Z0-9]*\\.[a-zA-Z][a-zA-Z][a-zA-Z]$'\n",
    "re.search(email_pattern, email)"
   ]
  },
  {
   "cell_type": "markdown",
   "id": "0f805369",
   "metadata": {},
   "source": [
    "# NumPy experiments"
   ]
  },
  {
   "cell_type": "code",
   "execution_count": 69,
   "id": "1bf3195a",
   "metadata": {},
   "outputs": [],
   "source": [
    "import numpy as np"
   ]
  },
  {
   "cell_type": "code",
   "execution_count": 70,
   "id": "a767167a",
   "metadata": {},
   "outputs": [],
   "source": [
    "values = np.array([78, 45, 90, 16, 44, 60, 92, 46, 72])"
   ]
  },
  {
   "cell_type": "code",
   "execution_count": 71,
   "id": "b4aa4642",
   "metadata": {},
   "outputs": [
    {
     "data": {
      "text/plain": [
       "60.333333333333336"
      ]
     },
     "execution_count": 71,
     "metadata": {},
     "output_type": "execute_result"
    }
   ],
   "source": [
    "values.mean()"
   ]
  },
  {
   "cell_type": "code",
   "execution_count": 76,
   "id": "bcc636f1",
   "metadata": {},
   "outputs": [
    {
     "data": {
      "text/plain": [
       "array([[78, 45, 90],\n",
       "       [16, 44, 60],\n",
       "       [92, 46, 72]])"
      ]
     },
     "execution_count": 76,
     "metadata": {},
     "output_type": "execute_result"
    }
   ],
   "source": [
    "values2d = values.reshape(3, 3)\n",
    "values2d"
   ]
  },
  {
   "cell_type": "code",
   "execution_count": 77,
   "id": "6c90b96f",
   "metadata": {},
   "outputs": [
    {
     "data": {
      "text/plain": [
       "array([92, 46, 90])"
      ]
     },
     "execution_count": 77,
     "metadata": {},
     "output_type": "execute_result"
    }
   ],
   "source": [
    "values2d.max(axis=0)"
   ]
  },
  {
   "cell_type": "code",
   "execution_count": 80,
   "id": "435c78d8",
   "metadata": {},
   "outputs": [
    {
     "data": {
      "text/plain": [
       "array([[16, 44, 45, 46, 60, 72, 78, 90, 92]])"
      ]
     },
     "execution_count": 80,
     "metadata": {},
     "output_type": "execute_result"
    }
   ],
   "source": [
    "values.reshape(1, 9)"
   ]
  },
  {
   "cell_type": "code",
   "execution_count": 81,
   "id": "5bd39e86",
   "metadata": {},
   "outputs": [
    {
     "data": {
      "text/plain": [
       "92"
      ]
     },
     "execution_count": 81,
     "metadata": {},
     "output_type": "execute_result"
    }
   ],
   "source": [
    "values.max()"
   ]
  },
  {
   "cell_type": "code",
   "execution_count": 83,
   "id": "e33892b2",
   "metadata": {},
   "outputs": [
    {
     "data": {
      "text/plain": [
       "array([16, 44, 45, 46, 60, 72, 78, 90, 92])"
      ]
     },
     "execution_count": 83,
     "metadata": {},
     "output_type": "execute_result"
    }
   ],
   "source": [
    "np.sort(values)"
   ]
  },
  {
   "cell_type": "markdown",
   "id": "892081b5",
   "metadata": {},
   "source": [
    "# Pandas experiments"
   ]
  },
  {
   "cell_type": "code",
   "execution_count": 84,
   "id": "d18738be",
   "metadata": {},
   "outputs": [],
   "source": [
    "import pandas as pd"
   ]
  },
  {
   "cell_type": "code",
   "execution_count": 85,
   "id": "b1e8ca9a",
   "metadata": {},
   "outputs": [],
   "source": [
    "# Download this file from https://www.kaggle.com/yamqwe/omicron-covid19-variant-daily-cases \n",
    "odf = pd.read_csv('covid-variants.csv')"
   ]
  },
  {
   "cell_type": "code",
   "execution_count": 86,
   "id": "65818da1",
   "metadata": {},
   "outputs": [
    {
     "data": {
      "text/plain": [
       "(100416, 6)"
      ]
     },
     "execution_count": 86,
     "metadata": {},
     "output_type": "execute_result"
    }
   ],
   "source": [
    "odf.shape"
   ]
  },
  {
   "cell_type": "code",
   "execution_count": 87,
   "id": "cc8310c8",
   "metadata": {},
   "outputs": [
    {
     "data": {
      "text/html": [
       "<div>\n",
       "<style scoped>\n",
       "    .dataframe tbody tr th:only-of-type {\n",
       "        vertical-align: middle;\n",
       "    }\n",
       "\n",
       "    .dataframe tbody tr th {\n",
       "        vertical-align: top;\n",
       "    }\n",
       "\n",
       "    .dataframe thead th {\n",
       "        text-align: right;\n",
       "    }\n",
       "</style>\n",
       "<table border=\"1\" class=\"dataframe\">\n",
       "  <thead>\n",
       "    <tr style=\"text-align: right;\">\n",
       "      <th></th>\n",
       "      <th>location</th>\n",
       "      <th>date</th>\n",
       "      <th>variant</th>\n",
       "      <th>num_sequences</th>\n",
       "      <th>perc_sequences</th>\n",
       "      <th>num_sequences_total</th>\n",
       "    </tr>\n",
       "  </thead>\n",
       "  <tbody>\n",
       "    <tr>\n",
       "      <th>0</th>\n",
       "      <td>Angola</td>\n",
       "      <td>2020-07-06</td>\n",
       "      <td>Alpha</td>\n",
       "      <td>0</td>\n",
       "      <td>0.0</td>\n",
       "      <td>3</td>\n",
       "    </tr>\n",
       "    <tr>\n",
       "      <th>1</th>\n",
       "      <td>Angola</td>\n",
       "      <td>2020-07-06</td>\n",
       "      <td>B.1.1.277</td>\n",
       "      <td>0</td>\n",
       "      <td>0.0</td>\n",
       "      <td>3</td>\n",
       "    </tr>\n",
       "    <tr>\n",
       "      <th>2</th>\n",
       "      <td>Angola</td>\n",
       "      <td>2020-07-06</td>\n",
       "      <td>B.1.1.302</td>\n",
       "      <td>0</td>\n",
       "      <td>0.0</td>\n",
       "      <td>3</td>\n",
       "    </tr>\n",
       "    <tr>\n",
       "      <th>3</th>\n",
       "      <td>Angola</td>\n",
       "      <td>2020-07-06</td>\n",
       "      <td>B.1.1.519</td>\n",
       "      <td>0</td>\n",
       "      <td>0.0</td>\n",
       "      <td>3</td>\n",
       "    </tr>\n",
       "    <tr>\n",
       "      <th>4</th>\n",
       "      <td>Angola</td>\n",
       "      <td>2020-07-06</td>\n",
       "      <td>B.1.160</td>\n",
       "      <td>0</td>\n",
       "      <td>0.0</td>\n",
       "      <td>3</td>\n",
       "    </tr>\n",
       "  </tbody>\n",
       "</table>\n",
       "</div>"
      ],
      "text/plain": [
       "  location        date    variant  num_sequences  perc_sequences  \\\n",
       "0   Angola  2020-07-06      Alpha              0             0.0   \n",
       "1   Angola  2020-07-06  B.1.1.277              0             0.0   \n",
       "2   Angola  2020-07-06  B.1.1.302              0             0.0   \n",
       "3   Angola  2020-07-06  B.1.1.519              0             0.0   \n",
       "4   Angola  2020-07-06    B.1.160              0             0.0   \n",
       "\n",
       "   num_sequences_total  \n",
       "0                    3  \n",
       "1                    3  \n",
       "2                    3  \n",
       "3                    3  \n",
       "4                    3  "
      ]
     },
     "execution_count": 87,
     "metadata": {},
     "output_type": "execute_result"
    }
   ],
   "source": [
    "odf.head()"
   ]
  },
  {
   "cell_type": "code",
   "execution_count": 88,
   "id": "d6262f70",
   "metadata": {},
   "outputs": [
    {
     "name": "stdout",
     "output_type": "stream",
     "text": [
      "<class 'pandas.core.frame.DataFrame'>\n",
      "RangeIndex: 100416 entries, 0 to 100415\n",
      "Data columns (total 6 columns):\n",
      " #   Column               Non-Null Count   Dtype  \n",
      "---  ------               --------------   -----  \n",
      " 0   location             100416 non-null  object \n",
      " 1   date                 100416 non-null  object \n",
      " 2   variant              100416 non-null  object \n",
      " 3   num_sequences        100416 non-null  int64  \n",
      " 4   perc_sequences       100416 non-null  float64\n",
      " 5   num_sequences_total  100416 non-null  int64  \n",
      "dtypes: float64(1), int64(2), object(3)\n",
      "memory usage: 4.6+ MB\n"
     ]
    }
   ],
   "source": [
    "odf.info()"
   ]
  },
  {
   "cell_type": "code",
   "execution_count": 89,
   "id": "f4515d9e",
   "metadata": {},
   "outputs": [
    {
     "data": {
      "text/html": [
       "<div>\n",
       "<style scoped>\n",
       "    .dataframe tbody tr th:only-of-type {\n",
       "        vertical-align: middle;\n",
       "    }\n",
       "\n",
       "    .dataframe tbody tr th {\n",
       "        vertical-align: top;\n",
       "    }\n",
       "\n",
       "    .dataframe thead th {\n",
       "        text-align: right;\n",
       "    }\n",
       "</style>\n",
       "<table border=\"1\" class=\"dataframe\">\n",
       "  <thead>\n",
       "    <tr style=\"text-align: right;\">\n",
       "      <th></th>\n",
       "      <th>num_sequences</th>\n",
       "      <th>perc_sequences</th>\n",
       "      <th>num_sequences_total</th>\n",
       "    </tr>\n",
       "  </thead>\n",
       "  <tbody>\n",
       "    <tr>\n",
       "      <th>count</th>\n",
       "      <td>100416.000000</td>\n",
       "      <td>100416.000000</td>\n",
       "      <td>100416.000000</td>\n",
       "    </tr>\n",
       "    <tr>\n",
       "      <th>mean</th>\n",
       "      <td>72.171676</td>\n",
       "      <td>6.154355</td>\n",
       "      <td>1509.582457</td>\n",
       "    </tr>\n",
       "    <tr>\n",
       "      <th>std</th>\n",
       "      <td>1669.262169</td>\n",
       "      <td>21.898989</td>\n",
       "      <td>8445.291772</td>\n",
       "    </tr>\n",
       "    <tr>\n",
       "      <th>min</th>\n",
       "      <td>0.000000</td>\n",
       "      <td>-0.010000</td>\n",
       "      <td>1.000000</td>\n",
       "    </tr>\n",
       "    <tr>\n",
       "      <th>25%</th>\n",
       "      <td>0.000000</td>\n",
       "      <td>0.000000</td>\n",
       "      <td>12.000000</td>\n",
       "    </tr>\n",
       "    <tr>\n",
       "      <th>50%</th>\n",
       "      <td>0.000000</td>\n",
       "      <td>0.000000</td>\n",
       "      <td>59.000000</td>\n",
       "    </tr>\n",
       "    <tr>\n",
       "      <th>75%</th>\n",
       "      <td>0.000000</td>\n",
       "      <td>0.000000</td>\n",
       "      <td>394.000000</td>\n",
       "    </tr>\n",
       "    <tr>\n",
       "      <th>max</th>\n",
       "      <td>142280.000000</td>\n",
       "      <td>100.000000</td>\n",
       "      <td>146170.000000</td>\n",
       "    </tr>\n",
       "  </tbody>\n",
       "</table>\n",
       "</div>"
      ],
      "text/plain": [
       "       num_sequences  perc_sequences  num_sequences_total\n",
       "count  100416.000000   100416.000000        100416.000000\n",
       "mean       72.171676        6.154355          1509.582457\n",
       "std      1669.262169       21.898989          8445.291772\n",
       "min         0.000000       -0.010000             1.000000\n",
       "25%         0.000000        0.000000            12.000000\n",
       "50%         0.000000        0.000000            59.000000\n",
       "75%         0.000000        0.000000           394.000000\n",
       "max    142280.000000      100.000000        146170.000000"
      ]
     },
     "execution_count": 89,
     "metadata": {},
     "output_type": "execute_result"
    }
   ],
   "source": [
    "odf.describe()"
   ]
  },
  {
   "cell_type": "code",
   "execution_count": 94,
   "id": "9809c301",
   "metadata": {},
   "outputs": [],
   "source": [
    "country_df = odf[\"location\"]"
   ]
  },
  {
   "cell_type": "code",
   "execution_count": 95,
   "id": "b8b1f395",
   "metadata": {},
   "outputs": [
    {
     "data": {
      "text/plain": [
       "0           Angola\n",
       "1           Angola\n",
       "2           Angola\n",
       "3           Angola\n",
       "4           Angola\n",
       "            ...   \n",
       "100411    Zimbabwe\n",
       "100412    Zimbabwe\n",
       "100413    Zimbabwe\n",
       "100414    Zimbabwe\n",
       "100415    Zimbabwe\n",
       "Name: location, Length: 100416, dtype: object"
      ]
     },
     "execution_count": 95,
     "metadata": {},
     "output_type": "execute_result"
    }
   ],
   "source": [
    "country_df"
   ]
  },
  {
   "cell_type": "code",
   "execution_count": 99,
   "id": "0066ec8d",
   "metadata": {},
   "outputs": [
    {
     "data": {
      "text/plain": [
       "(100416,)"
      ]
     },
     "execution_count": 99,
     "metadata": {},
     "output_type": "execute_result"
    }
   ],
   "source": [
    "country_df.shape"
   ]
  },
  {
   "cell_type": "code",
   "execution_count": 100,
   "id": "1e18c2f2",
   "metadata": {},
   "outputs": [
    {
     "data": {
      "text/plain": [
       "count         100416\n",
       "unique           121\n",
       "top       Bangladesh\n",
       "freq            1080\n",
       "Name: location, dtype: object"
      ]
     },
     "execution_count": 100,
     "metadata": {},
     "output_type": "execute_result"
    }
   ],
   "source": [
    "country_df.describe()"
   ]
  },
  {
   "cell_type": "code",
   "execution_count": 101,
   "id": "15e03c08",
   "metadata": {},
   "outputs": [
    {
     "data": {
      "text/html": [
       "<div>\n",
       "<style scoped>\n",
       "    .dataframe tbody tr th:only-of-type {\n",
       "        vertical-align: middle;\n",
       "    }\n",
       "\n",
       "    .dataframe tbody tr th {\n",
       "        vertical-align: top;\n",
       "    }\n",
       "\n",
       "    .dataframe thead th {\n",
       "        text-align: right;\n",
       "    }\n",
       "</style>\n",
       "<table border=\"1\" class=\"dataframe\">\n",
       "  <thead>\n",
       "    <tr style=\"text-align: right;\">\n",
       "      <th></th>\n",
       "      <th>location</th>\n",
       "      <th>date</th>\n",
       "      <th>variant</th>\n",
       "      <th>num_sequences</th>\n",
       "      <th>perc_sequences</th>\n",
       "      <th>num_sequences_total</th>\n",
       "    </tr>\n",
       "  </thead>\n",
       "  <tbody>\n",
       "    <tr>\n",
       "      <th>3384</th>\n",
       "      <td>Austria</td>\n",
       "      <td>2020-05-11</td>\n",
       "      <td>Alpha</td>\n",
       "      <td>0</td>\n",
       "      <td>0.00</td>\n",
       "      <td>34</td>\n",
       "    </tr>\n",
       "    <tr>\n",
       "      <th>3385</th>\n",
       "      <td>Austria</td>\n",
       "      <td>2020-05-11</td>\n",
       "      <td>B.1.1.277</td>\n",
       "      <td>0</td>\n",
       "      <td>0.00</td>\n",
       "      <td>34</td>\n",
       "    </tr>\n",
       "    <tr>\n",
       "      <th>3386</th>\n",
       "      <td>Austria</td>\n",
       "      <td>2020-05-11</td>\n",
       "      <td>B.1.1.302</td>\n",
       "      <td>0</td>\n",
       "      <td>0.00</td>\n",
       "      <td>34</td>\n",
       "    </tr>\n",
       "    <tr>\n",
       "      <th>3387</th>\n",
       "      <td>Austria</td>\n",
       "      <td>2020-05-11</td>\n",
       "      <td>B.1.1.519</td>\n",
       "      <td>0</td>\n",
       "      <td>0.00</td>\n",
       "      <td>34</td>\n",
       "    </tr>\n",
       "    <tr>\n",
       "      <th>3388</th>\n",
       "      <td>Austria</td>\n",
       "      <td>2020-05-11</td>\n",
       "      <td>B.1.160</td>\n",
       "      <td>0</td>\n",
       "      <td>0.00</td>\n",
       "      <td>34</td>\n",
       "    </tr>\n",
       "    <tr>\n",
       "      <th>...</th>\n",
       "      <td>...</td>\n",
       "      <td>...</td>\n",
       "      <td>...</td>\n",
       "      <td>...</td>\n",
       "      <td>...</td>\n",
       "      <td>...</td>\n",
       "    </tr>\n",
       "    <tr>\n",
       "      <th>4411</th>\n",
       "      <td>Austria</td>\n",
       "      <td>2021-12-13</td>\n",
       "      <td>Omicron</td>\n",
       "      <td>27</td>\n",
       "      <td>14.75</td>\n",
       "      <td>183</td>\n",
       "    </tr>\n",
       "    <tr>\n",
       "      <th>4412</th>\n",
       "      <td>Austria</td>\n",
       "      <td>2021-12-13</td>\n",
       "      <td>S:677H.Robin1</td>\n",
       "      <td>0</td>\n",
       "      <td>0.00</td>\n",
       "      <td>183</td>\n",
       "    </tr>\n",
       "    <tr>\n",
       "      <th>4413</th>\n",
       "      <td>Austria</td>\n",
       "      <td>2021-12-13</td>\n",
       "      <td>S:677P.Pelican</td>\n",
       "      <td>0</td>\n",
       "      <td>0.00</td>\n",
       "      <td>183</td>\n",
       "    </tr>\n",
       "    <tr>\n",
       "      <th>4414</th>\n",
       "      <td>Austria</td>\n",
       "      <td>2021-12-13</td>\n",
       "      <td>others</td>\n",
       "      <td>0</td>\n",
       "      <td>0.00</td>\n",
       "      <td>183</td>\n",
       "    </tr>\n",
       "    <tr>\n",
       "      <th>4415</th>\n",
       "      <td>Austria</td>\n",
       "      <td>2021-12-13</td>\n",
       "      <td>non_who</td>\n",
       "      <td>0</td>\n",
       "      <td>0.00</td>\n",
       "      <td>183</td>\n",
       "    </tr>\n",
       "  </tbody>\n",
       "</table>\n",
       "<p>1032 rows × 6 columns</p>\n",
       "</div>"
      ],
      "text/plain": [
       "     location        date         variant  num_sequences  perc_sequences  \\\n",
       "3384  Austria  2020-05-11           Alpha              0            0.00   \n",
       "3385  Austria  2020-05-11       B.1.1.277              0            0.00   \n",
       "3386  Austria  2020-05-11       B.1.1.302              0            0.00   \n",
       "3387  Austria  2020-05-11       B.1.1.519              0            0.00   \n",
       "3388  Austria  2020-05-11         B.1.160              0            0.00   \n",
       "...       ...         ...             ...            ...             ...   \n",
       "4411  Austria  2021-12-13         Omicron             27           14.75   \n",
       "4412  Austria  2021-12-13   S:677H.Robin1              0            0.00   \n",
       "4413  Austria  2021-12-13  S:677P.Pelican              0            0.00   \n",
       "4414  Austria  2021-12-13          others              0            0.00   \n",
       "4415  Austria  2021-12-13         non_who              0            0.00   \n",
       "\n",
       "      num_sequences_total  \n",
       "3384                   34  \n",
       "3385                   34  \n",
       "3386                   34  \n",
       "3387                   34  \n",
       "3388                   34  \n",
       "...                   ...  \n",
       "4411                  183  \n",
       "4412                  183  \n",
       "4413                  183  \n",
       "4414                  183  \n",
       "4415                  183  \n",
       "\n",
       "[1032 rows x 6 columns]"
      ]
     },
     "execution_count": 101,
     "metadata": {},
     "output_type": "execute_result"
    }
   ],
   "source": [
    "odf[odf[\"location\"] == \"Austria\"]"
   ]
  },
  {
   "cell_type": "code",
   "execution_count": 102,
   "id": "b641836d",
   "metadata": {},
   "outputs": [
    {
     "data": {
      "text/html": [
       "<div>\n",
       "<style scoped>\n",
       "    .dataframe tbody tr th:only-of-type {\n",
       "        vertical-align: middle;\n",
       "    }\n",
       "\n",
       "    .dataframe tbody tr th {\n",
       "        vertical-align: top;\n",
       "    }\n",
       "\n",
       "    .dataframe thead th {\n",
       "        text-align: right;\n",
       "    }\n",
       "</style>\n",
       "<table border=\"1\" class=\"dataframe\">\n",
       "  <thead>\n",
       "    <tr style=\"text-align: right;\">\n",
       "      <th></th>\n",
       "      <th>num_sequences</th>\n",
       "      <th>perc_sequences</th>\n",
       "      <th>num_sequences_total</th>\n",
       "    </tr>\n",
       "    <tr>\n",
       "      <th>location</th>\n",
       "      <th></th>\n",
       "      <th></th>\n",
       "      <th></th>\n",
       "    </tr>\n",
       "  </thead>\n",
       "  <tbody>\n",
       "    <tr>\n",
       "      <th>Angola</th>\n",
       "      <td>1325</td>\n",
       "      <td>3507.65</td>\n",
       "      <td>25320</td>\n",
       "    </tr>\n",
       "    <tr>\n",
       "      <th>Argentina</th>\n",
       "      <td>10689</td>\n",
       "      <td>6837.93</td>\n",
       "      <td>201864</td>\n",
       "    </tr>\n",
       "    <tr>\n",
       "      <th>Aruba</th>\n",
       "      <td>3302</td>\n",
       "      <td>3002.21</td>\n",
       "      <td>72000</td>\n",
       "    </tr>\n",
       "    <tr>\n",
       "      <th>Australia</th>\n",
       "      <td>62668</td>\n",
       "      <td>6502.24</td>\n",
       "      <td>1132776</td>\n",
       "    </tr>\n",
       "    <tr>\n",
       "      <th>Austria</th>\n",
       "      <td>14627</td>\n",
       "      <td>6356.05</td>\n",
       "      <td>301920</td>\n",
       "    </tr>\n",
       "    <tr>\n",
       "      <th>...</th>\n",
       "      <td>...</td>\n",
       "      <td>...</td>\n",
       "      <td>...</td>\n",
       "    </tr>\n",
       "    <tr>\n",
       "      <th>United States</th>\n",
       "      <td>2420758</td>\n",
       "      <td>6738.15</td>\n",
       "      <td>49960248</td>\n",
       "    </tr>\n",
       "    <tr>\n",
       "      <th>Uruguay</th>\n",
       "      <td>1189</td>\n",
       "      <td>4592.69</td>\n",
       "      <td>16368</td>\n",
       "    </tr>\n",
       "    <tr>\n",
       "      <th>Vietnam</th>\n",
       "      <td>1811</td>\n",
       "      <td>2350.00</td>\n",
       "      <td>43320</td>\n",
       "    </tr>\n",
       "    <tr>\n",
       "      <th>Zambia</th>\n",
       "      <td>1565</td>\n",
       "      <td>4624.63</td>\n",
       "      <td>26808</td>\n",
       "    </tr>\n",
       "    <tr>\n",
       "      <th>Zimbabwe</th>\n",
       "      <td>871</td>\n",
       "      <td>3758.60</td>\n",
       "      <td>16464</td>\n",
       "    </tr>\n",
       "  </tbody>\n",
       "</table>\n",
       "<p>121 rows × 3 columns</p>\n",
       "</div>"
      ],
      "text/plain": [
       "               num_sequences  perc_sequences  num_sequences_total\n",
       "location                                                         \n",
       "Angola                  1325         3507.65                25320\n",
       "Argentina              10689         6837.93               201864\n",
       "Aruba                   3302         3002.21                72000\n",
       "Australia              62668         6502.24              1132776\n",
       "Austria                14627         6356.05               301920\n",
       "...                      ...             ...                  ...\n",
       "United States        2420758         6738.15             49960248\n",
       "Uruguay                 1189         4592.69                16368\n",
       "Vietnam                 1811         2350.00                43320\n",
       "Zambia                  1565         4624.63                26808\n",
       "Zimbabwe                 871         3758.60                16464\n",
       "\n",
       "[121 rows x 3 columns]"
      ]
     },
     "execution_count": 102,
     "metadata": {},
     "output_type": "execute_result"
    }
   ],
   "source": [
    "odf.groupby(\"location\").sum()"
   ]
  },
  {
   "cell_type": "code",
   "execution_count": 103,
   "id": "26315311",
   "metadata": {},
   "outputs": [
    {
     "data": {
      "text/html": [
       "<div>\n",
       "<style scoped>\n",
       "    .dataframe tbody tr th:only-of-type {\n",
       "        vertical-align: middle;\n",
       "    }\n",
       "\n",
       "    .dataframe tbody tr th {\n",
       "        vertical-align: top;\n",
       "    }\n",
       "\n",
       "    .dataframe thead th {\n",
       "        text-align: right;\n",
       "    }\n",
       "</style>\n",
       "<table border=\"1\" class=\"dataframe\">\n",
       "  <thead>\n",
       "    <tr style=\"text-align: right;\">\n",
       "      <th></th>\n",
       "      <th>date</th>\n",
       "      <th>variant</th>\n",
       "      <th>num_sequences</th>\n",
       "      <th>perc_sequences</th>\n",
       "      <th>num_sequences_total</th>\n",
       "    </tr>\n",
       "    <tr>\n",
       "      <th>location</th>\n",
       "      <th></th>\n",
       "      <th></th>\n",
       "      <th></th>\n",
       "      <th></th>\n",
       "      <th></th>\n",
       "    </tr>\n",
       "  </thead>\n",
       "  <tbody>\n",
       "    <tr>\n",
       "      <th>Angola</th>\n",
       "      <td>672</td>\n",
       "      <td>672</td>\n",
       "      <td>672</td>\n",
       "      <td>672</td>\n",
       "      <td>672</td>\n",
       "    </tr>\n",
       "    <tr>\n",
       "      <th>Argentina</th>\n",
       "      <td>1056</td>\n",
       "      <td>1056</td>\n",
       "      <td>1056</td>\n",
       "      <td>1056</td>\n",
       "      <td>1056</td>\n",
       "    </tr>\n",
       "    <tr>\n",
       "      <th>Aruba</th>\n",
       "      <td>600</td>\n",
       "      <td>600</td>\n",
       "      <td>600</td>\n",
       "      <td>600</td>\n",
       "      <td>600</td>\n",
       "    </tr>\n",
       "    <tr>\n",
       "      <th>Australia</th>\n",
       "      <td>1056</td>\n",
       "      <td>1056</td>\n",
       "      <td>1056</td>\n",
       "      <td>1056</td>\n",
       "      <td>1056</td>\n",
       "    </tr>\n",
       "    <tr>\n",
       "      <th>Austria</th>\n",
       "      <td>1032</td>\n",
       "      <td>1032</td>\n",
       "      <td>1032</td>\n",
       "      <td>1032</td>\n",
       "      <td>1032</td>\n",
       "    </tr>\n",
       "    <tr>\n",
       "      <th>...</th>\n",
       "      <td>...</td>\n",
       "      <td>...</td>\n",
       "      <td>...</td>\n",
       "      <td>...</td>\n",
       "      <td>...</td>\n",
       "    </tr>\n",
       "    <tr>\n",
       "      <th>United States</th>\n",
       "      <td>1080</td>\n",
       "      <td>1080</td>\n",
       "      <td>1080</td>\n",
       "      <td>1080</td>\n",
       "      <td>1080</td>\n",
       "    </tr>\n",
       "    <tr>\n",
       "      <th>Uruguay</th>\n",
       "      <td>576</td>\n",
       "      <td>576</td>\n",
       "      <td>576</td>\n",
       "      <td>576</td>\n",
       "      <td>576</td>\n",
       "    </tr>\n",
       "    <tr>\n",
       "      <th>Vietnam</th>\n",
       "      <td>504</td>\n",
       "      <td>504</td>\n",
       "      <td>504</td>\n",
       "      <td>504</td>\n",
       "      <td>504</td>\n",
       "    </tr>\n",
       "    <tr>\n",
       "      <th>Zambia</th>\n",
       "      <td>816</td>\n",
       "      <td>816</td>\n",
       "      <td>816</td>\n",
       "      <td>816</td>\n",
       "      <td>816</td>\n",
       "    </tr>\n",
       "    <tr>\n",
       "      <th>Zimbabwe</th>\n",
       "      <td>672</td>\n",
       "      <td>672</td>\n",
       "      <td>672</td>\n",
       "      <td>672</td>\n",
       "      <td>672</td>\n",
       "    </tr>\n",
       "  </tbody>\n",
       "</table>\n",
       "<p>121 rows × 5 columns</p>\n",
       "</div>"
      ],
      "text/plain": [
       "               date  variant  num_sequences  perc_sequences  \\\n",
       "location                                                      \n",
       "Angola          672      672            672             672   \n",
       "Argentina      1056     1056           1056            1056   \n",
       "Aruba           600      600            600             600   \n",
       "Australia      1056     1056           1056            1056   \n",
       "Austria        1032     1032           1032            1032   \n",
       "...             ...      ...            ...             ...   \n",
       "United States  1080     1080           1080            1080   \n",
       "Uruguay         576      576            576             576   \n",
       "Vietnam         504      504            504             504   \n",
       "Zambia          816      816            816             816   \n",
       "Zimbabwe        672      672            672             672   \n",
       "\n",
       "               num_sequences_total  \n",
       "location                            \n",
       "Angola                         672  \n",
       "Argentina                     1056  \n",
       "Aruba                          600  \n",
       "Australia                     1056  \n",
       "Austria                       1032  \n",
       "...                            ...  \n",
       "United States                 1080  \n",
       "Uruguay                        576  \n",
       "Vietnam                        504  \n",
       "Zambia                         816  \n",
       "Zimbabwe                       672  \n",
       "\n",
       "[121 rows x 5 columns]"
      ]
     },
     "execution_count": 103,
     "metadata": {},
     "output_type": "execute_result"
    }
   ],
   "source": [
    "odf.groupby(\"location\").count()"
   ]
  },
  {
   "cell_type": "code",
   "execution_count": null,
   "id": "dd9e6153",
   "metadata": {},
   "outputs": [],
   "source": []
  }
 ],
 "metadata": {
  "kernelspec": {
   "display_name": "Python 3 (ipykernel)",
   "language": "python",
   "name": "python3"
  },
  "language_info": {
   "codemirror_mode": {
    "name": "ipython",
    "version": 3
   },
   "file_extension": ".py",
   "mimetype": "text/x-python",
   "name": "python",
   "nbconvert_exporter": "python",
   "pygments_lexer": "ipython3",
   "version": "3.8.9"
  }
 },
 "nbformat": 4,
 "nbformat_minor": 5
}
