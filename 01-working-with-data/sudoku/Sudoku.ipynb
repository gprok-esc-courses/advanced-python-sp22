{
 "cells": [
  {
   "cell_type": "markdown",
   "id": "e47caa10",
   "metadata": {},
   "source": [
    "# Select a random sudoku and display it in rows and columns"
   ]
  },
  {
   "cell_type": "markdown",
   "id": "f2ebba96",
   "metadata": {},
   "source": [
    "## Without pandas"
   ]
  },
  {
   "cell_type": "code",
   "execution_count": 11,
   "id": "c3b2f3f8",
   "metadata": {},
   "outputs": [
    {
     "data": {
      "text/plain": [
       "['007001200200600500005004006093050607070020040010406038904005013001300709030800000',\n",
       " '367581294249637581185294376493158627678923145512476938924765813851342769736819452']"
      ]
     },
     "execution_count": 11,
     "metadata": {},
     "output_type": "execute_result"
    }
   ],
   "source": [
    "import random\n",
    "sf = open('sudoku.csv')\n",
    "rnd = random.randint(1, 1000000)\n",
    "lines = sf.read().splitlines()\n",
    "puzzle = lines[rnd].split(',')\n",
    "puzzle"
   ]
  },
  {
   "cell_type": "code",
   "execution_count": 19,
   "id": "9c10bc7b",
   "metadata": {},
   "outputs": [
    {
     "name": "stdout",
     "output_type": "stream",
     "text": [
      "0 0 7 0 0 1 2 0 0 \n",
      "2 0 0 6 0 0 5 0 0 \n",
      "0 0 5 0 0 4 0 0 6 \n",
      "0 9 3 0 5 0 6 0 7 \n",
      "0 7 0 0 2 0 0 4 0 \n",
      "0 1 0 4 0 6 0 3 8 \n",
      "9 0 4 0 0 5 0 1 3 \n",
      "0 0 1 3 0 0 7 0 9 \n",
      "0 3 0 8 0 0 0 0 0 "
     ]
    }
   ],
   "source": [
    "# display puzzle in rows and columns\n",
    "disp_puzzle = puzzle[0]\n",
    "for i in range (0, len(disp_puzzle)):\n",
    "    if i != 0 and i % 9 == 0:\n",
    "        print()\n",
    "    print(disp_puzzle[i], end=' ')"
   ]
  },
  {
   "cell_type": "code",
   "execution_count": 22,
   "id": "d4597524",
   "metadata": {},
   "outputs": [
    {
     "name": "stdout",
     "output_type": "stream",
     "text": [
      "0 0 7 0 0 1 2 0 0\n",
      "2 0 0 6 0 0 5 0 0\n",
      "0 0 5 0 0 4 0 0 6\n",
      "0 9 3 0 5 0 6 0 7\n",
      "0 7 0 0 2 0 0 4 0\n",
      "0 1 0 4 0 6 0 3 8\n",
      "9 0 4 0 0 5 0 1 3\n",
      "0 0 1 3 0 0 7 0 9\n",
      "0 3 0 8 0 0 0 0 0\n"
     ]
    }
   ],
   "source": [
    "for i in range (9, len(disp_puzzle)+1, 9):\n",
    "    print(' '.join(disp_puzzle[i-9:i]))"
   ]
  },
  {
   "cell_type": "markdown",
   "id": "02082209",
   "metadata": {},
   "source": [
    "# With pandas"
   ]
  },
  {
   "cell_type": "code",
   "execution_count": 29,
   "id": "81a2f531",
   "metadata": {},
   "outputs": [],
   "source": [
    "import pandas as pd\n",
    "import numpy as np"
   ]
  },
  {
   "cell_type": "code",
   "execution_count": 30,
   "id": "7e560930",
   "metadata": {},
   "outputs": [],
   "source": [
    "df = pd.read_csv('sudoku.csv')"
   ]
  },
  {
   "cell_type": "code",
   "execution_count": 38,
   "id": "5cf63d63",
   "metadata": {},
   "outputs": [
    {
     "data": {
      "text/plain": [
       "array([['0', '1', '0', '5', '0', '0', '0', '3', '4'],\n",
       "       ['0', '0', '3', '0', '2', '6', '0', '0', '0'],\n",
       "       ['0', '0', '4', '0', '8', '0', '2', '0', '9'],\n",
       "       ['0', '6', '5', '0', '4', '0', '0', '0', '0'],\n",
       "       ['0', '0', '0', '0', '9', '0', '0', '0', '8'],\n",
       "       ['0', '9', '0', '3', '0', '1', '0', '2', '7'],\n",
       "       ['8', '0', '0', '7', '0', '5', '9', '0', '0'],\n",
       "       ['6', '4', '0', '0', '0', '2', '7', '0', '0'],\n",
       "       ['1', '0', '0', '0', '6', '0', '3', '8', '2']], dtype='<U1')"
      ]
     },
     "execution_count": 38,
     "metadata": {},
     "output_type": "execute_result"
    }
   ],
   "source": [
    "sudoku = df.iloc[random.randint(1, 1000000)]\n",
    "nums = np.array(list(sudoku['quizzes'])).reshape(9, 9)\n",
    "nums"
   ]
  },
  {
   "cell_type": "code",
   "execution_count": null,
   "id": "bbb1b7d8",
   "metadata": {},
   "outputs": [],
   "source": []
  }
 ],
 "metadata": {
  "kernelspec": {
   "display_name": "Python 3 (ipykernel)",
   "language": "python",
   "name": "python3"
  },
  "language_info": {
   "codemirror_mode": {
    "name": "ipython",
    "version": 3
   },
   "file_extension": ".py",
   "mimetype": "text/x-python",
   "name": "python",
   "nbconvert_exporter": "python",
   "pygments_lexer": "ipython3",
   "version": "3.8.9"
  }
 },
 "nbformat": 4,
 "nbformat_minor": 5
}
